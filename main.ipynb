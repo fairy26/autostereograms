{
 "cells": [
  {
   "cell_type": "markdown",
   "metadata": {},
   "source": [
    "# 水平方向にずれたパターン\n",
    "\n",
    "# 最初はいくつかのツール\n",
    "\n",
    "始める前に、画像を扱うためのツールをいくつか作っておきましょう。\n",
    "\n",
    "* 与えられたサイズと背景を持つ新しい画像を返す関数\n",
    "* 画像を表示する関数\n",
    "\n",
    "まずは空の画像ビルダーから始めましょう。scikit-image スタイルを使用し、numpy 配列を使用して画像をモデル化することにします。途中で必要となるパッケージをインポートしましょう。"
   ]
  },
  {
   "cell_type": "code",
   "execution_count": 1,
   "metadata": {},
   "outputs": [
    {
     "ename": "ModuleNotFoundError",
     "evalue": "No module named 'matplotlib'",
     "output_type": "error",
     "traceback": [
      "\u001b[1;31m---------------------------------------------------------------------------\u001b[0m",
      "\u001b[1;31mModuleNotFoundError\u001b[0m                       Traceback (most recent call last)",
      "\u001b[1;32m~\\AppData\\Local\\Temp/ipykernel_10436/2662209270.py\u001b[0m in \u001b[0;36m<module>\u001b[1;34m\u001b[0m\n\u001b[0;32m      1\u001b[0m \u001b[1;32mimport\u001b[0m \u001b[0mnumpy\u001b[0m \u001b[1;32mas\u001b[0m \u001b[0mnp\u001b[0m\u001b[1;33m\u001b[0m\u001b[1;33m\u001b[0m\u001b[0m\n\u001b[1;32m----> 2\u001b[1;33m \u001b[1;32mimport\u001b[0m \u001b[0mmatplotlib\u001b[0m\u001b[1;33m.\u001b[0m\u001b[0mpyplot\u001b[0m \u001b[1;32mas\u001b[0m \u001b[0mplt\u001b[0m\u001b[1;33m\u001b[0m\u001b[1;33m\u001b[0m\u001b[0m\n\u001b[0m\u001b[0;32m      3\u001b[0m \u001b[1;32mimport\u001b[0m \u001b[0mskimage\u001b[0m\u001b[1;33m,\u001b[0m \u001b[0mskimage\u001b[0m\u001b[1;33m.\u001b[0m\u001b[0mio\u001b[0m\u001b[1;33m\u001b[0m\u001b[1;33m\u001b[0m\u001b[0m\n\u001b[0;32m      4\u001b[0m \u001b[0mget_ipython\u001b[0m\u001b[1;33m(\u001b[0m\u001b[1;33m)\u001b[0m\u001b[1;33m.\u001b[0m\u001b[0mrun_line_magic\u001b[0m\u001b[1;33m(\u001b[0m\u001b[1;34m'matplotlib'\u001b[0m\u001b[1;33m,\u001b[0m \u001b[1;34m'inline'\u001b[0m\u001b[1;33m)\u001b[0m\u001b[1;33m\u001b[0m\u001b[1;33m\u001b[0m\u001b[0m\n",
      "\u001b[1;31mModuleNotFoundError\u001b[0m: No module named 'matplotlib'"
     ]
    }
   ],
   "source": [
    "import numpy as np\n",
    "import matplotlib.pyplot as plt\n",
    "import skimage, skimage.io\n",
    "%matplotlib inline"
   ]
  },
  {
   "cell_type": "code",
   "execution_count": null,
   "metadata": {},
   "outputs": [],
   "source": [
    "plt.rcParams['figure.dpi'] = 150"
   ]
  },
  {
   "cell_type": "code",
   "execution_count": null,
   "metadata": {},
   "outputs": [],
   "source": [
    "def blank_image(\n",
    "    shape=(600, 800, 4),\n",
    "    rgba=(255, 255, 255, 0)\n",
    "    ):\n",
    "    \"\"\"Returns a blank image, of size defined by shape and background color rgb.\"\"\"\n",
    "    return np.ones(shape, dtype=np.float) * np.array(rgba) / 255."
   ]
  },
  {
   "cell_type": "code",
   "execution_count": null,
   "metadata": {},
   "outputs": [],
   "source": [
    "img = blank_image()"
   ]
  },
  {
   "cell_type": "markdown",
   "metadata": {},
   "source": [
    "Now that we have an image, let's write a function that displays it."
   ]
  },
  {
   "cell_type": "code",
   "execution_count": null,
   "metadata": {},
   "outputs": [],
   "source": [
    "def display(img, colorbar=False):\n",
    "    \"\"\"Displays an image.\"\"\"\n",
    "    plt.figure(figsize=(10, 10))\n",
    "    if len(img.shape) == 2:\n",
    "        i = skimage.io.imshow(img, cmap='gray')\n",
    "    else:\n",
    "        i = skimage.io.imshow(img)\n",
    "    if colorbar:\n",
    "        plt.colorbar(i, shrink=0.5, label='depth')\n",
    "    plt.tight_layout()"
   ]
  },
  {
   "cell_type": "code",
   "execution_count": null,
   "metadata": {},
   "outputs": [],
   "source": [
    "display(img)"
   ]
  },
  {
   "cell_type": "markdown",
   "metadata": {},
   "source": [
    "# タイル\n",
    "では、パターンのタイリングについて説明します。まず、この記事で扱うパターンであるコインをロードします。"
   ]
  },
  {
   "cell_type": "code",
   "execution_count": null,
   "metadata": {},
   "outputs": [],
   "source": [
    "coin = skimage.io.imread('files/coin-icon.png')"
   ]
  },
  {
   "cell_type": "markdown",
   "metadata": {},
   "source": [
    "What does this coin look like?"
   ]
  },
  {
   "cell_type": "code",
   "execution_count": null,
   "metadata": {},
   "outputs": [],
   "source": [
    "display(coin)"
   ]
  },
  {
   "cell_type": "markdown",
   "metadata": {},
   "source": [
    "Let's now write a function that inserts a pattern onto an existing image."
   ]
  },
  {
   "cell_type": "code",
   "execution_count": null,
   "metadata": {},
   "outputs": [],
   "source": [
    "def insert_pattern(background_img, pattern, location):\n",
    "    \"\"\"Inserts a pattern onto a background, at given location. Returns new image.\"\"\"\n",
    "    img = background_img.copy()\n",
    "    r0, c0 = location\n",
    "    r1, c1 = r0 + pattern.shape[0], c0 + pattern.shape[1]\n",
    "    if r1 < background_img.shape[0] and c1 < background_img.shape[1]:\n",
    "        img[r0:r1, c0:c1, :] = skimage.img_as_float(pattern)\n",
    "    return img"
   ]
  },
  {
   "cell_type": "markdown",
   "metadata": {},
   "source": [
    "Let's test this:"
   ]
  },
  {
   "cell_type": "code",
   "execution_count": null,
   "metadata": {},
   "outputs": [],
   "source": [
    "test_img = insert_pattern(img, coin, (10, 20))\n",
    "display(test_img)"
   ]
  },
  {
   "cell_type": "markdown",
   "metadata": {},
   "source": [
    "From there, we can write a horizontal tile function that maps a pattern a repeated number of times on an image."
   ]
  },
  {
   "cell_type": "code",
   "execution_count": null,
   "metadata": {},
   "outputs": [],
   "source": [
    "def tile_horizontally(background_img, pattern, start_location, repetitions, shift):\n",
    "    \"Tiles a pattern on a background image, repeatedly with a given shift.\"\n",
    "    img = background_img.copy()\n",
    "    for i in range(repetitions):\n",
    "        r, c = start_location\n",
    "        c += i * shift\n",
    "        img = insert_pattern(img, pattern, location=(r, c))\n",
    "    return img"
   ]
  },
  {
   "cell_type": "markdown",
   "metadata": {},
   "source": [
    "Let's test this:"
   ]
  },
  {
   "cell_type": "code",
   "execution_count": null,
   "metadata": {},
   "outputs": [],
   "source": [
    "test_img = tile_horizontally(img, coin, (10, 20), 3, 128)\n",
    "display(test_img)"
   ]
  },
  {
   "cell_type": "markdown",
   "metadata": {},
   "source": [
    "さて、基本ができたところで、wikipediaのオートステレオグラムのページにある「3列のコインをそれぞれシフトさせる」という例を真似てみましょう。"
   ]
  },
  {
   "cell_type": "code",
   "execution_count": null,
   "metadata": {},
   "outputs": [],
   "source": [
    "img = blank_image(shape=(450, 800, 4))\n",
    "img = tile_horizontally(img, coin, (10, 10), 6, shift=130)\n",
    "img = tile_horizontally(img, coin, (10 + 150, 10), 5, shift=150)\n",
    "img = tile_horizontally(img, coin, (10 + 2*150, 10), 5, shift=140)\n",
    "display(img)"
   ]
  },
  {
   "cell_type": "markdown",
   "metadata": {},
   "source": [
    "この画像をいわゆる壁目線で見ると、真ん中の列が画面の中に押し込まれ、上下の列が浮き出ているように見えると思います。見えますか？\n",
    "\n",
    "この実験から得られた結論は、「密着しているものは、間隔の広いものよりも近くに見える」ということです。\n",
    "\n",
    "では、縦方向にも効果があるのでしょうか？3Dパターンを視覚化した後、画面を回転させてみてください。私には、奥行きの錯覚はすぐになくなり、少し傾けるだけで奥行きの印象を壊すのに十分です。\n",
    "\n",
    "この結果は、すでに興味深いものです。しかし、深度マップベースのステレオグラムはどうでしょうか？"
   ]
  },
  {
   "cell_type": "markdown",
   "metadata": {},
   "source": [
    "# 深度マップベースのステレオグラム\n",
    "オートステレオグラムに関するウィキペディアの記事には、深度マップベースのステレオグラムを作成するためのアルゴリズムが次のように記述されています。\n",
    "\n",
    ">   コンピュータ・プログラムは、深度マップとそれに付随するパターン画像を取り込んで、 オートステレオグラムを生成することができます。プログラムは、深度マップと同じ大きさの領域をカバーするために、パターン画像を水平にタイル状に配置します。具体的には、出力画像の各画素で、深度マップ画像に相当する画素のグレースケール値を調べ、その値からその画素に必要な水平方向の移動量を決定する。  \n",
    "> これを実現する一つの方法は、出力画像のすべての行を左から右へピクセルごとにスキャンすることです。パターン画像から行の最初のピクセルのシリーズをシードします。そして、深度マップを参照して、後続の画素に適切なシフト値を取得します。各ピクセルについて、パターン画像の幅からシフト値を引き、繰り返し間隔を算出する。この繰り返し間隔を利用して、左隣のピクセルの色を調べ、その色を新しいピクセルの色として使用します。\n",
    "\n",
    "これだけでは、はっきり言って説明になっていない。これを分解してみましょう。必要なものは2つです。\n",
    "\n",
    "* パターン\n",
    "* 深度マップ\n",
    "\n",
    "まず、パターンを作成しよう。ここでは、グレーの値からなるランダムなパターンを使用する。"
   ]
  },
  {
   "cell_type": "code",
   "execution_count": null,
   "metadata": {},
   "outputs": [],
   "source": [
    "def make_pattern(shape=(16, 16), levels=64):\n",
    "    \"Creates a pattern from gray values.\"\n",
    "    return np.random.randint(0, levels - 1, shape) / levels"
   ]
  },
  {
   "cell_type": "markdown",
   "metadata": {},
   "source": [
    "Let's test this:"
   ]
  },
  {
   "cell_type": "code",
   "execution_count": null,
   "metadata": {},
   "outputs": [],
   "source": [
    "pattern = make_pattern(shape=(128, 64))"
   ]
  },
  {
   "cell_type": "code",
   "execution_count": null,
   "metadata": {},
   "outputs": [],
   "source": [
    "display(pattern)"
   ]
  },
  {
   "cell_type": "markdown",
   "metadata": {},
   "source": [
    "Now, we would like to have a depth map. Let's create a depth map using a simple circle."
   ]
  },
  {
   "cell_type": "code",
   "execution_count": null,
   "metadata": {},
   "outputs": [],
   "source": [
    "def create_circular_depthmap(shape=(600, 800), center=None, radius=100):\n",
    "    \"Creates a circular depthmap, centered on the image.\"\n",
    "    depthmap = np.zeros(shape, dtype=np.float)\n",
    "    r = np.arange(depthmap.shape[0])\n",
    "    c = np.arange(depthmap.shape[1])\n",
    "    R, C = np.meshgrid(r, c, indexing='ij')\n",
    "    if center is None:\n",
    "        center = np.array([r.max() / 2, c.max() / 2])\n",
    "    d = np.sqrt((R - center[0])**2 + (C - center[1])**2)\n",
    "    depthmap += (d < radius)\n",
    "    return depthmap "
   ]
  },
  {
   "cell_type": "code",
   "execution_count": null,
   "metadata": {},
   "outputs": [],
   "source": [
    "depthmap = create_circular_depthmap(radius=150)"
   ]
  },
  {
   "cell_type": "code",
   "execution_count": null,
   "metadata": {},
   "outputs": [],
   "source": [
    "display(depthmap, colorbar=True)"
   ]
  },
  {
   "cell_type": "markdown",
   "metadata": {},
   "source": [
    "Now that we're here, we will also create a function that normalizes a depthmap into the [0, 1] range:"
   ]
  },
  {
   "cell_type": "code",
   "execution_count": null,
   "metadata": {},
   "outputs": [],
   "source": [
    "def normalize(depthmap):\n",
    "    \"Normalizes values of depthmap to [0, 1] range.\"\n",
    "    if depthmap.max() > depthmap.min():\n",
    "        return (depthmap - depthmap.min()) / (depthmap.max() - depthmap.min())\n",
    "    else:\n",
    "        return depthmap"
   ]
  },
  {
   "cell_type": "markdown",
   "metadata": {},
   "source": [
    "Finally, let's apply the algorithm."
   ]
  },
  {
   "cell_type": "code",
   "execution_count": null,
   "metadata": {},
   "outputs": [],
   "source": [
    "def make_autostereogram(depthmap, pattern, shift_amplitude=0.1, invert=False):\n",
    "    \"Creates an autostereogram from depthmap and pattern.\"\n",
    "    depthmap = normalize(depthmap)\n",
    "    if invert:\n",
    "        depthmap = 1 - depthmap\n",
    "    autostereogram = np.zeros_like(depthmap, dtype=pattern.dtype)\n",
    "    for r in np.arange(autostereogram.shape[0]):\n",
    "        for c in np.arange(autostereogram.shape[1]):\n",
    "            if c < pattern.shape[1]:\n",
    "                autostereogram[r, c] = pattern[r % pattern.shape[0], c]\n",
    "            else:\n",
    "                shift = int(depthmap[r, c] * shift_amplitude * pattern.shape[1])\n",
    "                autostereogram[r, c] = autostereogram[r, c - pattern.shape[1] + shift]\n",
    "    return autostereogram"
   ]
  },
  {
   "cell_type": "markdown",
   "metadata": {},
   "source": [
    "Let's test this!"
   ]
  },
  {
   "cell_type": "code",
   "execution_count": null,
   "metadata": {},
   "outputs": [],
   "source": [
    "autostereogram = make_autostereogram(depthmap, pattern)"
   ]
  },
  {
   "cell_type": "code",
   "execution_count": null,
   "metadata": {},
   "outputs": [],
   "source": [
    "display(autostereogram)"
   ]
  },
  {
   "cell_type": "markdown",
   "metadata": {},
   "source": [
    "倒立型はどうでしょう？"
   ]
  },
  {
   "cell_type": "code",
   "execution_count": null,
   "metadata": {},
   "outputs": [],
   "source": [
    "autostereogram = make_autostereogram(depthmap, pattern, invert=True)"
   ]
  },
  {
   "cell_type": "code",
   "execution_count": null,
   "metadata": {},
   "outputs": [],
   "source": [
    "display(autostereogram)"
   ]
  },
  {
   "cell_type": "markdown",
   "metadata": {},
   "source": [
    "これも効果あり！\n",
    "\n",
    "もっと凝ったパターンも見てみましょう。例えば、異なるデプスマップを組み合わせることができます。"
   ]
  },
  {
   "cell_type": "code",
   "execution_count": null,
   "metadata": {},
   "outputs": [],
   "source": [
    "depthmap = create_circular_depthmap(center=(200, 300), radius=100) + \\\n",
    "           create_circular_depthmap(center=(450, 500), radius=100) + \\\n",
    "           create_circular_depthmap(center=(200, 550), radius=150)\n",
    "depthmap = normalize(depthmap)"
   ]
  },
  {
   "cell_type": "code",
   "execution_count": null,
   "metadata": {},
   "outputs": [],
   "source": [
    "display(depthmap, colorbar=True)"
   ]
  },
  {
   "cell_type": "code",
   "execution_count": null,
   "metadata": {},
   "outputs": [],
   "source": [
    "autostereogram = make_autostereogram(depthmap, pattern)"
   ]
  },
  {
   "cell_type": "code",
   "execution_count": null,
   "metadata": {},
   "outputs": [],
   "source": [
    "display(autostereogram)"
   ]
  },
  {
   "cell_type": "markdown",
   "metadata": {},
   "source": [
    "# 結論\n",
    "今回は、オートステレオグラムの作成方法についてご紹介しました。結果は完璧ではありませんが、奥行きの錯覚は主にパターンの水平方向のずれによって作り出されることがわかり、興味深いものでした。私は、この記事の続きを書き、オートステレオグラムの素晴らしさ（パターンの選択、深度係数、グレーレベルの数...）を探求し、この技術のより興味深いアプリケーションのいくつかを実証する予定です。例えば、地図、データ、数学関数などです。もう1つの興味深いトピックは、すでに他のブログで検討されていますが、オートステレオグラムからデプスマップへの逆変換をどのように生成するかということです。これはまた別の機会に紹介したいと思います。\n",
    "\n",
    "この記事はすべてIPythonノートブックで書かれています。この記事の内容はBSDライセンスです。[20160803_Autostereograms.ipynb](https://nbviewer.org/github/flothesof/posts/blob/master/20160803_Autostereograms.ipynb) で nbviewer を使ってこのノートブックの静止画を見たり、ダウンロードしたりすることができます。"
   ]
  }
 ],
 "metadata": {
  "kernelspec": {
   "display_name": "Python 3.9.7 ('zenv')",
   "language": "python",
   "name": "python3"
  },
  "language_info": {
   "codemirror_mode": {
    "name": "ipython",
    "version": 3
   },
   "file_extension": ".py",
   "mimetype": "text/x-python",
   "name": "python",
   "nbconvert_exporter": "python",
   "pygments_lexer": "ipython3",
   "version": "3.9.7"
  },
  "orig_nbformat": 4,
  "vscode": {
   "interpreter": {
    "hash": "b048e839abb68f7f44b577895b12d05e7f55a1b9cd60ec2712e234f5bd2e432e"
   }
  }
 },
 "nbformat": 4,
 "nbformat_minor": 2
}
